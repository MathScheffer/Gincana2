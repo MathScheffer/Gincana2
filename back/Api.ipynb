{
 "cells": [
  {
   "cell_type": "code",
   "execution_count": 2,
   "id": "122ff206-59cc-4a05-ab7f-e726e6985af4",
   "metadata": {},
   "outputs": [
    {
     "name": "stdout",
     "output_type": "stream",
     "text": [
      "Requirement already satisfied: pytest in c:\\users\\matheus\\anaconda3\\lib\\site-packages (7.4.4)\n",
      "Requirement already satisfied: iniconfig in c:\\users\\matheus\\anaconda3\\lib\\site-packages (from pytest) (1.1.1)\n",
      "Requirement already satisfied: packaging in c:\\users\\matheus\\anaconda3\\lib\\site-packages (from pytest) (23.2)\n",
      "Requirement already satisfied: pluggy<2.0,>=0.12 in c:\\users\\matheus\\anaconda3\\lib\\site-packages (from pytest) (1.0.0)\n",
      "Requirement already satisfied: colorama in c:\\users\\matheus\\anaconda3\\lib\\site-packages (from pytest) (0.4.6)\n",
      "Collecting fastapi[standard]\n",
      "  Downloading fastapi-0.115.0-py3-none-any.whl.metadata (27 kB)\n",
      "Collecting starlette<0.39.0,>=0.37.2 (from fastapi[standard])\n",
      "  Downloading starlette-0.38.6-py3-none-any.whl.metadata (6.0 kB)\n",
      "Requirement already satisfied: pydantic!=1.8,!=1.8.1,!=2.0.0,!=2.0.1,!=2.1.0,<3.0.0,>=1.7.4 in c:\\users\\matheus\\anaconda3\\lib\\site-packages (from fastapi[standard]) (2.5.3)\n",
      "Requirement already satisfied: typing-extensions>=4.8.0 in c:\\users\\matheus\\anaconda3\\lib\\site-packages (from fastapi[standard]) (4.11.0)\n",
      "Collecting fastapi-cli>=0.0.5 (from fastapi-cli[standard]>=0.0.5; extra == \"standard\"->fastapi[standard])\n",
      "  Downloading fastapi_cli-0.0.5-py3-none-any.whl.metadata (7.0 kB)\n",
      "Requirement already satisfied: httpx>=0.23.0 in c:\\users\\matheus\\anaconda3\\lib\\site-packages (from fastapi[standard]) (0.27.0)\n",
      "Requirement already satisfied: jinja2>=2.11.2 in c:\\users\\matheus\\anaconda3\\lib\\site-packages (from fastapi[standard]) (3.1.4)\n",
      "Collecting python-multipart>=0.0.7 (from fastapi[standard])\n",
      "  Downloading python_multipart-0.0.12-py3-none-any.whl.metadata (1.9 kB)\n",
      "Collecting email-validator>=2.0.0 (from fastapi[standard])\n",
      "  Downloading email_validator-2.2.0-py3-none-any.whl.metadata (25 kB)\n",
      "Collecting uvicorn>=0.12.0 (from uvicorn[standard]>=0.12.0; extra == \"standard\"->fastapi[standard])\n",
      "  Downloading uvicorn-0.31.0-py3-none-any.whl.metadata (6.6 kB)\n",
      "Collecting dnspython>=2.0.0 (from email-validator>=2.0.0->fastapi[standard])\n",
      "  Downloading dnspython-2.7.0-py3-none-any.whl.metadata (5.8 kB)\n",
      "Requirement already satisfied: idna>=2.0.0 in c:\\users\\matheus\\anaconda3\\lib\\site-packages (from email-validator>=2.0.0->fastapi[standard]) (3.7)\n",
      "Collecting typer>=0.12.3 (from fastapi-cli>=0.0.5->fastapi-cli[standard]>=0.0.5; extra == \"standard\"->fastapi[standard])\n",
      "  Downloading typer-0.12.5-py3-none-any.whl.metadata (15 kB)\n",
      "Requirement already satisfied: anyio in c:\\users\\matheus\\anaconda3\\lib\\site-packages (from httpx>=0.23.0->fastapi[standard]) (4.2.0)\n",
      "Requirement already satisfied: certifi in c:\\users\\matheus\\anaconda3\\lib\\site-packages (from httpx>=0.23.0->fastapi[standard]) (2024.8.30)\n",
      "Requirement already satisfied: httpcore==1.* in c:\\users\\matheus\\anaconda3\\lib\\site-packages (from httpx>=0.23.0->fastapi[standard]) (1.0.2)\n",
      "Requirement already satisfied: sniffio in c:\\users\\matheus\\anaconda3\\lib\\site-packages (from httpx>=0.23.0->fastapi[standard]) (1.3.0)\n",
      "Requirement already satisfied: h11<0.15,>=0.13 in c:\\users\\matheus\\anaconda3\\lib\\site-packages (from httpcore==1.*->httpx>=0.23.0->fastapi[standard]) (0.14.0)\n",
      "Requirement already satisfied: MarkupSafe>=2.0 in c:\\users\\matheus\\anaconda3\\lib\\site-packages (from jinja2>=2.11.2->fastapi[standard]) (2.1.3)\n",
      "Requirement already satisfied: annotated-types>=0.4.0 in c:\\users\\matheus\\anaconda3\\lib\\site-packages (from pydantic!=1.8,!=1.8.1,!=2.0.0,!=2.0.1,!=2.1.0,<3.0.0,>=1.7.4->fastapi[standard]) (0.6.0)\n",
      "Requirement already satisfied: pydantic-core==2.14.6 in c:\\users\\matheus\\anaconda3\\lib\\site-packages (from pydantic!=1.8,!=1.8.1,!=2.0.0,!=2.0.1,!=2.1.0,<3.0.0,>=1.7.4->fastapi[standard]) (2.14.6)\n",
      "Requirement already satisfied: click>=7.0 in c:\\users\\matheus\\anaconda3\\lib\\site-packages (from uvicorn>=0.12.0->uvicorn[standard]>=0.12.0; extra == \"standard\"->fastapi[standard]) (8.1.7)\n",
      "Requirement already satisfied: colorama>=0.4 in c:\\users\\matheus\\anaconda3\\lib\\site-packages (from uvicorn[standard]>=0.12.0; extra == \"standard\"->fastapi[standard]) (0.4.6)\n",
      "Collecting httptools>=0.5.0 (from uvicorn[standard]>=0.12.0; extra == \"standard\"->fastapi[standard])\n",
      "  Downloading httptools-0.6.1-cp312-cp312-win_amd64.whl.metadata (3.7 kB)\n",
      "Requirement already satisfied: python-dotenv>=0.13 in c:\\users\\matheus\\anaconda3\\lib\\site-packages (from uvicorn[standard]>=0.12.0; extra == \"standard\"->fastapi[standard]) (0.21.0)\n",
      "Requirement already satisfied: pyyaml>=5.1 in c:\\users\\matheus\\anaconda3\\lib\\site-packages (from uvicorn[standard]>=0.12.0; extra == \"standard\"->fastapi[standard]) (6.0.1)\n",
      "Collecting watchfiles>=0.13 (from uvicorn[standard]>=0.12.0; extra == \"standard\"->fastapi[standard])\n",
      "  Downloading watchfiles-0.24.0-cp312-none-win_amd64.whl.metadata (5.0 kB)\n",
      "Collecting websockets>=10.4 (from uvicorn[standard]>=0.12.0; extra == \"standard\"->fastapi[standard])\n",
      "  Downloading websockets-13.1-cp312-cp312-win_amd64.whl.metadata (7.0 kB)\n",
      "Collecting shellingham>=1.3.0 (from typer>=0.12.3->fastapi-cli>=0.0.5->fastapi-cli[standard]>=0.0.5; extra == \"standard\"->fastapi[standard])\n",
      "  Downloading shellingham-1.5.4-py2.py3-none-any.whl.metadata (3.5 kB)\n",
      "Requirement already satisfied: rich>=10.11.0 in c:\\users\\matheus\\anaconda3\\lib\\site-packages (from typer>=0.12.3->fastapi-cli>=0.0.5->fastapi-cli[standard]>=0.0.5; extra == \"standard\"->fastapi[standard]) (13.3.5)\n",
      "Requirement already satisfied: markdown-it-py<3.0.0,>=2.2.0 in c:\\users\\matheus\\anaconda3\\lib\\site-packages (from rich>=10.11.0->typer>=0.12.3->fastapi-cli>=0.0.5->fastapi-cli[standard]>=0.0.5; extra == \"standard\"->fastapi[standard]) (2.2.0)\n",
      "Requirement already satisfied: pygments<3.0.0,>=2.13.0 in c:\\users\\matheus\\anaconda3\\lib\\site-packages (from rich>=10.11.0->typer>=0.12.3->fastapi-cli>=0.0.5->fastapi-cli[standard]>=0.0.5; extra == \"standard\"->fastapi[standard]) (2.15.1)\n",
      "Requirement already satisfied: mdurl~=0.1 in c:\\users\\matheus\\anaconda3\\lib\\site-packages (from markdown-it-py<3.0.0,>=2.2.0->rich>=10.11.0->typer>=0.12.3->fastapi-cli>=0.0.5->fastapi-cli[standard]>=0.0.5; extra == \"standard\"->fastapi[standard]) (0.1.0)\n",
      "Downloading email_validator-2.2.0-py3-none-any.whl (33 kB)\n",
      "Downloading fastapi_cli-0.0.5-py3-none-any.whl (9.5 kB)\n",
      "Downloading python_multipart-0.0.12-py3-none-any.whl (23 kB)\n",
      "Downloading starlette-0.38.6-py3-none-any.whl (71 kB)\n",
      "   ---------------------------------------- 0.0/71.5 kB ? eta -:--:--\n",
      "   ---------------------------------------- 71.5/71.5 kB 2.0 MB/s eta 0:00:00\n",
      "Downloading uvicorn-0.31.0-py3-none-any.whl (63 kB)\n",
      "   ---------------------------------------- 0.0/63.7 kB ? eta -:--:--\n",
      "   ---------------------------------------- 63.7/63.7 kB 3.3 MB/s eta 0:00:00\n",
      "Downloading fastapi-0.115.0-py3-none-any.whl (94 kB)\n",
      "   ---------------------------------------- 0.0/94.6 kB ? eta -:--:--\n",
      "   ---------------------------------------- 94.6/94.6 kB 5.3 MB/s eta 0:00:00\n",
      "Downloading dnspython-2.7.0-py3-none-any.whl (313 kB)\n",
      "   ---------------------------------------- 0.0/313.6 kB ? eta -:--:--\n",
      "   ---------------------------------------- 313.6/313.6 kB 9.8 MB/s eta 0:00:00\n",
      "Downloading httptools-0.6.1-cp312-cp312-win_amd64.whl (55 kB)\n",
      "   ---------------------------------------- 0.0/55.7 kB ? eta -:--:--\n",
      "   ---------------------------------------- 55.7/55.7 kB 2.8 MB/s eta 0:00:00\n",
      "Downloading typer-0.12.5-py3-none-any.whl (47 kB)\n",
      "   ---------------------------------------- 0.0/47.3 kB ? eta -:--:--\n",
      "   ---------------------------------------- 47.3/47.3 kB ? eta 0:00:00\n",
      "Downloading watchfiles-0.24.0-cp312-none-win_amd64.whl (277 kB)\n",
      "   ---------------------------------------- 0.0/277.1 kB ? eta -:--:--\n",
      "   ---------------------------------------- 277.1/277.1 kB 8.6 MB/s eta 0:00:00\n",
      "Downloading websockets-13.1-cp312-cp312-win_amd64.whl (159 kB)\n",
      "   ---------------------------------------- 0.0/159.1 kB ? eta -:--:--\n",
      "   ---------------------------------------- 159.1/159.1 kB 9.3 MB/s eta 0:00:00\n",
      "Downloading shellingham-1.5.4-py2.py3-none-any.whl (9.8 kB)\n",
      "Installing collected packages: websockets, shellingham, python-multipart, httptools, dnspython, watchfiles, uvicorn, starlette, email-validator, typer, fastapi, fastapi-cli\n",
      "Successfully installed dnspython-2.7.0 email-validator-2.2.0 fastapi-0.115.0 fastapi-cli-0.0.5 httptools-0.6.1 python-multipart-0.0.12 shellingham-1.5.4 starlette-0.38.6 typer-0.12.5 uvicorn-0.31.0 watchfiles-0.24.0 websockets-13.1\n"
     ]
    }
   ],
   "source": [
    "!pip install pytest\n",
    "!pip install \"fastapi[standard]\""
   ]
  },
  {
   "cell_type": "code",
   "execution_count": 64,
   "id": "6bbca895-5dbf-4cc1-bf80-4cb38285a452",
   "metadata": {},
   "outputs": [],
   "source": [
    "from typing import Union\n",
    "\n",
    "from fastapi import FastAPI\n",
    "\n",
    "app = FastAPI()\n",
    "\n",
    "\n",
    "@app.get(\"/\")\n",
    "def read_root():\n",
    "    return {\"Hello\": \"World\"}\n",
    "\n",
    "\n",
    "@app.post(\"/login\")\n",
    "def login(nome: str, senha: str):\n",
    "    if type(nome) != str:\n",
    "            return {\"Message\": \"O Nome deverá ser uma string\"}\n",
    "    return {\"Nome\":nome, \"Senha\":senha}"
   ]
  },
  {
   "cell_type": "code",
   "execution_count": 66,
   "id": "7fbcbb47-9380-4a1c-911d-289bb21af26b",
   "metadata": {},
   "outputs": [
    {
     "data": {
      "text/plain": [
       "{'Message': 'O Nome deverá ser uma string'}"
      ]
     },
     "execution_count": 66,
     "metadata": {},
     "output_type": "execute_result"
    }
   ],
   "source": [
    "login(1, 'bla')"
   ]
  },
  {
   "cell_type": "code",
   "execution_count": 68,
   "id": "e82be295-5e38-4fd8-bdd8-5527462dd2a7",
   "metadata": {},
   "outputs": [],
   "source": [
    "import pytest\n",
    "\n",
    "class ApiTests:\n",
    "    nome = \"Afonso\"\n",
    "    email = \"afonso@gmail.com\"\n",
    "    senha = \"123\"\n",
    "\n",
    "    def loginTest(self):\n",
    "        assert login(self.nome, self.senha) == {\"Nome\":self.nome, \"Senha\":self.senha}"
   ]
  },
  {
   "cell_type": "code",
   "execution_count": 70,
   "id": "30ea5d21-4722-456d-a0b9-59436b8edc04",
   "metadata": {},
   "outputs": [
    {
     "ename": "AssertionError",
     "evalue": "",
     "output_type": "error",
     "traceback": [
      "\u001b[1;31m---------------------------------------------------------------------------\u001b[0m",
      "\u001b[1;31mAssertionError\u001b[0m                            Traceback (most recent call last)",
      "Cell \u001b[1;32mIn[70], line 3\u001b[0m\n\u001b[0;32m      1\u001b[0m apiTest \u001b[38;5;241m=\u001b[39m ApiTests()\n\u001b[1;32m----> 3\u001b[0m apiTest\u001b[38;5;241m.\u001b[39mloginTest()\n",
      "Cell \u001b[1;32mIn[68], line 9\u001b[0m, in \u001b[0;36mApiTests.loginTest\u001b[1;34m(self)\u001b[0m\n\u001b[0;32m      8\u001b[0m \u001b[38;5;28;01mdef\u001b[39;00m \u001b[38;5;21mloginTest\u001b[39m(\u001b[38;5;28mself\u001b[39m):\n\u001b[1;32m----> 9\u001b[0m     \u001b[38;5;28;01massert\u001b[39;00m login(\u001b[38;5;28mself\u001b[39m\u001b[38;5;241m.\u001b[39mnome, \u001b[38;5;28mself\u001b[39m\u001b[38;5;241m.\u001b[39msenha) \u001b[38;5;241m==\u001b[39m {\u001b[38;5;124m\"\u001b[39m\u001b[38;5;124mNome\u001b[39m\u001b[38;5;124m\"\u001b[39m:\u001b[38;5;28mself\u001b[39m\u001b[38;5;241m.\u001b[39mnome, \u001b[38;5;124m\"\u001b[39m\u001b[38;5;124mSenha\u001b[39m\u001b[38;5;124m\"\u001b[39m:\u001b[38;5;28mself\u001b[39m\u001b[38;5;241m.\u001b[39msenha}\n",
      "\u001b[1;31mAssertionError\u001b[0m: "
     ]
    }
   ],
   "source": [
    "apiTest = ApiTests()\n",
    "\n",
    "apiTest.loginTest()"
   ]
  },
  {
   "cell_type": "code",
   "execution_count": 74,
   "id": "56eb9f1b-8331-40c4-9c89-1fcf115a2bd9",
   "metadata": {},
   "outputs": [],
   "source": [
    "o = {\"teste\": 123, \"teste2\":321}\n"
   ]
  },
  {
   "cell_type": "code",
   "execution_count": 80,
   "id": "98926f7d-fa78-4a6f-8e70-7935932f21bc",
   "metadata": {},
   "outputs": [
    {
     "name": "stdout",
     "output_type": "stream",
     "text": [
      "teste\n",
      "teste2\n"
     ]
    }
   ],
   "source": [
    "for k,v in o.items():\n",
    "    print(k)"
   ]
  },
  {
   "cell_type": "code",
   "execution_count": 84,
   "id": "ee6033ea-f9e8-4983-b963-9d090808ca3f",
   "metadata": {},
   "outputs": [
    {
     "data": {
      "text/plain": [
       "False"
      ]
     },
     "execution_count": 84,
     "metadata": {},
     "output_type": "execute_result"
    }
   ],
   "source": [
    "a = [1,2,3]\n",
    "\n",
    "4 in a"
   ]
  },
  {
   "cell_type": "code",
   "execution_count": null,
   "id": "4722a96c-cf6c-4535-9c6c-98e18ac59d29",
   "metadata": {},
   "outputs": [],
   "source": []
  }
 ],
 "metadata": {
  "kernelspec": {
   "display_name": "Python 3 (ipykernel)",
   "language": "python",
   "name": "python3"
  },
  "language_info": {
   "codemirror_mode": {
    "name": "ipython",
    "version": 3
   },
   "file_extension": ".py",
   "mimetype": "text/x-python",
   "name": "python",
   "nbconvert_exporter": "python",
   "pygments_lexer": "ipython3",
   "version": "3.12.4"
  }
 },
 "nbformat": 4,
 "nbformat_minor": 5
}
